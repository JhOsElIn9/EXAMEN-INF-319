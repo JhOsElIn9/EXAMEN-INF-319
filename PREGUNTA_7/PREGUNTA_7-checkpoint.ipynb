{
 "cells": [
  {
   "cell_type": "code",
   "execution_count": 1,
   "id": "460e56b4",
   "metadata": {},
   "outputs": [
    {
     "name": "stdout",
     "output_type": "stream",
     "text": [
      "hola\n"
     ]
    }
   ],
   "source": [
    "print(\"hola\")"
   ]
  },
  {
   "cell_type": "code",
   "execution_count": 9,
   "id": "618faa24",
   "metadata": {},
   "outputs": [
    {
     "name": "stdout",
     "output_type": "stream",
     "text": [
      "Ingresa los números a sumar, o escribe \"sumar\" si ya deseas sumar: 5\n",
      "\n",
      "Numeros a sumar hasta ahora [5]\n",
      "Ingresa los números a sumar, o escribe \"sumar\" si ya deseas sumar: 6\n",
      "\n",
      "Numeros a sumar hasta ahora [5, 6]\n",
      "Ingresa los números a sumar, o escribe \"sumar\" si ya deseas sumar: 7\n",
      "\n",
      "Numeros a sumar hasta ahora [5, 6, 7]\n",
      "Ingresa los números a sumar, o escribe \"sumar\" si ya deseas sumar: 8\n",
      "\n",
      "Numeros a sumar hasta ahora [5, 6, 7, 8]\n",
      "Ingresa los números a sumar, o escribe \"sumar\" si ya deseas sumar: sumar\n",
      "26\n"
     ]
    }
   ],
   "source": [
    "#FUNCION suma\n",
    "def sumavarios():\n",
    "  lista = []\n",
    "  while True:\n",
    "    numeros = input(\"\"\"Ingresa los números a sumar, o escribe \"sumar\" si ya deseas sumar: \"\"\")\n",
    "    if numeros.isdigit():\n",
    "      lista.append(int(numeros))\n",
    "      print(\"\\nNumeros a sumar hasta ahora\", lista)\n",
    "    elif numeros == \"sumar\":\n",
    "      misuma = sum(lista)\n",
    "      print(misuma)\n",
    "      break\n",
    "sumavarios()\n",
    "\n",
    "#FUNCION resta\n",
    "def resta(a,b):\n",
    "    return a-b\n",
    "print (resta(2,3))\n",
    "#FUNCION multiplicacion\n",
    "def multiplicacion(a,b):\n",
    "    return a*b\n",
    "print (multiplicacion(2,3))\n",
    "#FUNCION division\n",
    "def division(a,b):\n",
    "    return a/b\n",
    "print (division(2,3))"
   ]
  },
  {
   "cell_type": "code",
   "execution_count": null,
   "id": "f4a9599c",
   "metadata": {},
   "outputs": [],
   "source": []
  }
 ],
 "metadata": {
  "kernelspec": {
   "display_name": "Python 3 (ipykernel)",
   "language": "python",
   "name": "python3"
  },
  "language_info": {
   "codemirror_mode": {
    "name": "ipython",
    "version": 3
   },
   "file_extension": ".py",
   "mimetype": "text/x-python",
   "name": "python",
   "nbconvert_exporter": "python",
   "pygments_lexer": "ipython3",
   "version": "3.9.12"
  }
 },
 "nbformat": 4,
 "nbformat_minor": 5
}
